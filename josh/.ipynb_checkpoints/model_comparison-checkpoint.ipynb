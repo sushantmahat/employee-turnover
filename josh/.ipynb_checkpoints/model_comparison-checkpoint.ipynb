{
 "cells": [
  {
   "cell_type": "markdown",
   "id": "330ffe27-f916-459e-a015-ed9ad9883322",
   "metadata": {},
   "source": [
    "# Imports"
   ]
  },
  {
   "cell_type": "code",
   "execution_count": 1,
   "id": "d38005ef-b461-4a8d-b169-8e32c0f95c48",
   "metadata": {},
   "outputs": [],
   "source": [
    "import itertools\n",
    "import numpy as np\n",
    "import pandas as pd\n",
    "import matplotlib.pyplot as plt"
   ]
  },
  {
   "cell_type": "markdown",
   "id": "3e9a6e32-3d04-45a0-a7de-82e033f88f2b",
   "metadata": {},
   "source": [
    "# Data loading and cleaning"
   ]
  },
  {
   "cell_type": "code",
   "execution_count": 2,
   "id": "228beeb6-27a5-4cb6-ad26-c84526733dff",
   "metadata": {},
   "outputs": [
    {
     "data": {
      "text/html": [
       "<div>\n",
       "<style scoped>\n",
       "    .dataframe tbody tr th:only-of-type {\n",
       "        vertical-align: middle;\n",
       "    }\n",
       "\n",
       "    .dataframe tbody tr th {\n",
       "        vertical-align: top;\n",
       "    }\n",
       "\n",
       "    .dataframe thead th {\n",
       "        text-align: right;\n",
       "    }\n",
       "</style>\n",
       "<table border=\"1\" class=\"dataframe\">\n",
       "  <thead>\n",
       "    <tr style=\"text-align: right;\">\n",
       "      <th></th>\n",
       "      <th>department</th>\n",
       "      <th>promoted</th>\n",
       "      <th>review</th>\n",
       "      <th>projects</th>\n",
       "      <th>salary</th>\n",
       "      <th>tenure</th>\n",
       "      <th>satisfaction</th>\n",
       "      <th>bonus</th>\n",
       "      <th>avg_hrs_month</th>\n",
       "      <th>left</th>\n",
       "    </tr>\n",
       "  </thead>\n",
       "  <tbody>\n",
       "    <tr>\n",
       "      <th>0</th>\n",
       "      <td>operations</td>\n",
       "      <td>0</td>\n",
       "      <td>0.577569</td>\n",
       "      <td>3</td>\n",
       "      <td>low</td>\n",
       "      <td>5.0</td>\n",
       "      <td>0.626759</td>\n",
       "      <td>0</td>\n",
       "      <td>180.866070</td>\n",
       "      <td>no</td>\n",
       "    </tr>\n",
       "    <tr>\n",
       "      <th>1</th>\n",
       "      <td>operations</td>\n",
       "      <td>0</td>\n",
       "      <td>0.751900</td>\n",
       "      <td>3</td>\n",
       "      <td>medium</td>\n",
       "      <td>6.0</td>\n",
       "      <td>0.443679</td>\n",
       "      <td>0</td>\n",
       "      <td>182.708149</td>\n",
       "      <td>no</td>\n",
       "    </tr>\n",
       "    <tr>\n",
       "      <th>2</th>\n",
       "      <td>support</td>\n",
       "      <td>0</td>\n",
       "      <td>0.722548</td>\n",
       "      <td>3</td>\n",
       "      <td>medium</td>\n",
       "      <td>6.0</td>\n",
       "      <td>0.446823</td>\n",
       "      <td>0</td>\n",
       "      <td>184.416084</td>\n",
       "      <td>no</td>\n",
       "    </tr>\n",
       "    <tr>\n",
       "      <th>3</th>\n",
       "      <td>logistics</td>\n",
       "      <td>0</td>\n",
       "      <td>0.675158</td>\n",
       "      <td>4</td>\n",
       "      <td>high</td>\n",
       "      <td>8.0</td>\n",
       "      <td>0.440139</td>\n",
       "      <td>0</td>\n",
       "      <td>188.707545</td>\n",
       "      <td>no</td>\n",
       "    </tr>\n",
       "    <tr>\n",
       "      <th>4</th>\n",
       "      <td>sales</td>\n",
       "      <td>0</td>\n",
       "      <td>0.676203</td>\n",
       "      <td>3</td>\n",
       "      <td>high</td>\n",
       "      <td>5.0</td>\n",
       "      <td>0.577607</td>\n",
       "      <td>1</td>\n",
       "      <td>179.821083</td>\n",
       "      <td>no</td>\n",
       "    </tr>\n",
       "  </tbody>\n",
       "</table>\n",
       "</div>"
      ],
      "text/plain": [
       "   department  promoted    review  projects  salary  tenure  satisfaction  \\\n",
       "0  operations         0  0.577569         3     low     5.0      0.626759   \n",
       "1  operations         0  0.751900         3  medium     6.0      0.443679   \n",
       "2     support         0  0.722548         3  medium     6.0      0.446823   \n",
       "3   logistics         0  0.675158         4    high     8.0      0.440139   \n",
       "4       sales         0  0.676203         3    high     5.0      0.577607   \n",
       "\n",
       "   bonus  avg_hrs_month left  \n",
       "0      0     180.866070   no  \n",
       "1      0     182.708149   no  \n",
       "2      0     184.416084   no  \n",
       "3      0     188.707545   no  \n",
       "4      1     179.821083   no  "
      ]
     },
     "execution_count": 2,
     "metadata": {},
     "output_type": "execute_result"
    }
   ],
   "source": [
    "df = pd.read_csv('../data/employee_churn_data.csv')\n",
    "df.head()"
   ]
  },
  {
   "cell_type": "code",
   "execution_count": 3,
   "id": "09040d09-c594-41ca-b147-4a39a235b07c",
   "metadata": {},
   "outputs": [],
   "source": [
    "departments = sorted(set(df.department), key=lambda x: x.lower())"
   ]
  },
  {
   "cell_type": "code",
   "execution_count": 4,
   "id": "fe3b1726-eb25-4e8b-b40d-448827ef8c0c",
   "metadata": {},
   "outputs": [],
   "source": [
    "for i, dep in enumerate(departments):\n",
    "    df.department = df.department.replace(dep, i)"
   ]
  },
  {
   "cell_type": "code",
   "execution_count": 5,
   "id": "bba5ce55-10cd-4f69-8fec-edbee8e4b680",
   "metadata": {},
   "outputs": [],
   "source": [
    "df.salary = df.salary.replace('low', 0)\n",
    "df.salary = df.salary.replace('medium', 1)\n",
    "df.salary = df.salary.replace('high', 2)"
   ]
  },
  {
   "cell_type": "code",
   "execution_count": 6,
   "id": "4a479bcb-6883-484d-a182-626e548153b8",
   "metadata": {},
   "outputs": [],
   "source": [
    "df.left = df.left.replace('no', 0)\n",
    "df.left = df.left.replace('yes', 1)"
   ]
  },
  {
   "cell_type": "code",
   "execution_count": 7,
   "id": "b723448f-2c20-4844-8aaa-ae090ab5ee67",
   "metadata": {},
   "outputs": [
    {
     "data": {
      "text/html": [
       "<div>\n",
       "<style scoped>\n",
       "    .dataframe tbody tr th:only-of-type {\n",
       "        vertical-align: middle;\n",
       "    }\n",
       "\n",
       "    .dataframe tbody tr th {\n",
       "        vertical-align: top;\n",
       "    }\n",
       "\n",
       "    .dataframe thead th {\n",
       "        text-align: right;\n",
       "    }\n",
       "</style>\n",
       "<table border=\"1\" class=\"dataframe\">\n",
       "  <thead>\n",
       "    <tr style=\"text-align: right;\">\n",
       "      <th></th>\n",
       "      <th>department</th>\n",
       "      <th>promoted</th>\n",
       "      <th>review</th>\n",
       "      <th>projects</th>\n",
       "      <th>salary</th>\n",
       "      <th>tenure</th>\n",
       "      <th>satisfaction</th>\n",
       "      <th>bonus</th>\n",
       "      <th>avg_hrs_month</th>\n",
       "      <th>left</th>\n",
       "    </tr>\n",
       "  </thead>\n",
       "  <tbody>\n",
       "    <tr>\n",
       "      <th>0</th>\n",
       "      <td>6</td>\n",
       "      <td>0</td>\n",
       "      <td>0.577569</td>\n",
       "      <td>3</td>\n",
       "      <td>0</td>\n",
       "      <td>5.0</td>\n",
       "      <td>0.626759</td>\n",
       "      <td>0</td>\n",
       "      <td>180.866070</td>\n",
       "      <td>0</td>\n",
       "    </tr>\n",
       "    <tr>\n",
       "      <th>1</th>\n",
       "      <td>6</td>\n",
       "      <td>0</td>\n",
       "      <td>0.751900</td>\n",
       "      <td>3</td>\n",
       "      <td>1</td>\n",
       "      <td>6.0</td>\n",
       "      <td>0.443679</td>\n",
       "      <td>0</td>\n",
       "      <td>182.708149</td>\n",
       "      <td>0</td>\n",
       "    </tr>\n",
       "    <tr>\n",
       "      <th>2</th>\n",
       "      <td>9</td>\n",
       "      <td>0</td>\n",
       "      <td>0.722548</td>\n",
       "      <td>3</td>\n",
       "      <td>1</td>\n",
       "      <td>6.0</td>\n",
       "      <td>0.446823</td>\n",
       "      <td>0</td>\n",
       "      <td>184.416084</td>\n",
       "      <td>0</td>\n",
       "    </tr>\n",
       "    <tr>\n",
       "      <th>3</th>\n",
       "      <td>4</td>\n",
       "      <td>0</td>\n",
       "      <td>0.675158</td>\n",
       "      <td>4</td>\n",
       "      <td>2</td>\n",
       "      <td>8.0</td>\n",
       "      <td>0.440139</td>\n",
       "      <td>0</td>\n",
       "      <td>188.707545</td>\n",
       "      <td>0</td>\n",
       "    </tr>\n",
       "    <tr>\n",
       "      <th>4</th>\n",
       "      <td>8</td>\n",
       "      <td>0</td>\n",
       "      <td>0.676203</td>\n",
       "      <td>3</td>\n",
       "      <td>2</td>\n",
       "      <td>5.0</td>\n",
       "      <td>0.577607</td>\n",
       "      <td>1</td>\n",
       "      <td>179.821083</td>\n",
       "      <td>0</td>\n",
       "    </tr>\n",
       "  </tbody>\n",
       "</table>\n",
       "</div>"
      ],
      "text/plain": [
       "   department  promoted    review  projects  salary  tenure  satisfaction  \\\n",
       "0           6         0  0.577569         3       0     5.0      0.626759   \n",
       "1           6         0  0.751900         3       1     6.0      0.443679   \n",
       "2           9         0  0.722548         3       1     6.0      0.446823   \n",
       "3           4         0  0.675158         4       2     8.0      0.440139   \n",
       "4           8         0  0.676203         3       2     5.0      0.577607   \n",
       "\n",
       "   bonus  avg_hrs_month  left  \n",
       "0      0     180.866070     0  \n",
       "1      0     182.708149     0  \n",
       "2      0     184.416084     0  \n",
       "3      0     188.707545     0  \n",
       "4      1     179.821083     0  "
      ]
     },
     "execution_count": 7,
     "metadata": {},
     "output_type": "execute_result"
    }
   ],
   "source": [
    "df.head()"
   ]
  },
  {
   "cell_type": "code",
   "execution_count": 8,
   "id": "eb14c93d-660e-4038-b671-bb0c676f8ebe",
   "metadata": {},
   "outputs": [
    {
     "data": {
      "text/html": [
       "<div>\n",
       "<style scoped>\n",
       "    .dataframe tbody tr th:only-of-type {\n",
       "        vertical-align: middle;\n",
       "    }\n",
       "\n",
       "    .dataframe tbody tr th {\n",
       "        vertical-align: top;\n",
       "    }\n",
       "\n",
       "    .dataframe thead th {\n",
       "        text-align: right;\n",
       "    }\n",
       "</style>\n",
       "<table border=\"1\" class=\"dataframe\">\n",
       "  <thead>\n",
       "    <tr style=\"text-align: right;\">\n",
       "      <th></th>\n",
       "      <th>department</th>\n",
       "      <th>promoted</th>\n",
       "      <th>review</th>\n",
       "      <th>projects</th>\n",
       "      <th>salary</th>\n",
       "      <th>tenure</th>\n",
       "      <th>satisfaction</th>\n",
       "      <th>bonus</th>\n",
       "      <th>avg_hrs_month</th>\n",
       "      <th>left</th>\n",
       "    </tr>\n",
       "  </thead>\n",
       "  <tbody>\n",
       "    <tr>\n",
       "      <th>0</th>\n",
       "      <td>6</td>\n",
       "      <td>0</td>\n",
       "      <td>-0.870478</td>\n",
       "      <td>3</td>\n",
       "      <td>0</td>\n",
       "      <td>-1.099441</td>\n",
       "      <td>0.770170</td>\n",
       "      <td>0</td>\n",
       "      <td>-0.915719</td>\n",
       "      <td>0</td>\n",
       "    </tr>\n",
       "    <tr>\n",
       "      <th>1</th>\n",
       "      <td>6</td>\n",
       "      <td>0</td>\n",
       "      <td>1.173100</td>\n",
       "      <td>3</td>\n",
       "      <td>1</td>\n",
       "      <td>-0.392943</td>\n",
       "      <td>-0.384507</td>\n",
       "      <td>0</td>\n",
       "      <td>-0.471291</td>\n",
       "      <td>0</td>\n",
       "    </tr>\n",
       "    <tr>\n",
       "      <th>2</th>\n",
       "      <td>9</td>\n",
       "      <td>0</td>\n",
       "      <td>0.829033</td>\n",
       "      <td>3</td>\n",
       "      <td>1</td>\n",
       "      <td>-0.392943</td>\n",
       "      <td>-0.364676</td>\n",
       "      <td>0</td>\n",
       "      <td>-0.059227</td>\n",
       "      <td>0</td>\n",
       "    </tr>\n",
       "    <tr>\n",
       "      <th>3</th>\n",
       "      <td>4</td>\n",
       "      <td>0</td>\n",
       "      <td>0.273507</td>\n",
       "      <td>4</td>\n",
       "      <td>2</td>\n",
       "      <td>1.020053</td>\n",
       "      <td>-0.406835</td>\n",
       "      <td>0</td>\n",
       "      <td>0.976149</td>\n",
       "      <td>0</td>\n",
       "    </tr>\n",
       "    <tr>\n",
       "      <th>4</th>\n",
       "      <td>8</td>\n",
       "      <td>0</td>\n",
       "      <td>0.285755</td>\n",
       "      <td>3</td>\n",
       "      <td>2</td>\n",
       "      <td>-1.099441</td>\n",
       "      <td>0.460174</td>\n",
       "      <td>1</td>\n",
       "      <td>-1.167837</td>\n",
       "      <td>0</td>\n",
       "    </tr>\n",
       "  </tbody>\n",
       "</table>\n",
       "</div>"
      ],
      "text/plain": [
       "   department  promoted    review  projects  salary    tenure  satisfaction  \\\n",
       "0           6         0 -0.870478         3       0 -1.099441      0.770170   \n",
       "1           6         0  1.173100         3       1 -0.392943     -0.384507   \n",
       "2           9         0  0.829033         3       1 -0.392943     -0.364676   \n",
       "3           4         0  0.273507         4       2  1.020053     -0.406835   \n",
       "4           8         0  0.285755         3       2 -1.099441      0.460174   \n",
       "\n",
       "   bonus  avg_hrs_month  left  \n",
       "0      0      -0.915719     0  \n",
       "1      0      -0.471291     0  \n",
       "2      0      -0.059227     0  \n",
       "3      0       0.976149     0  \n",
       "4      1      -1.167837     0  "
      ]
     },
     "execution_count": 8,
     "metadata": {},
     "output_type": "execute_result"
    }
   ],
   "source": [
    "normalized_df = df.copy()\n",
    "\n",
    "for col in ['review', 'tenure', 'satisfaction', 'avg_hrs_month']:\n",
    "    normalized_df[col] = (normalized_df[col] - normalized_df[col].mean())/normalized_df[col].std()\n",
    "\n",
    "normalized_df.head()"
   ]
  },
  {
   "cell_type": "markdown",
   "id": "d0ffd36d-577b-42d9-b265-6d744765ab69",
   "metadata": {},
   "source": [
    "# Visualization"
   ]
  },
  {
   "cell_type": "code",
   "execution_count": 9,
   "id": "4a8e7a1a-8d64-4aa0-b856-632a53509fa2",
   "metadata": {},
   "outputs": [],
   "source": [
    "df_left = normalized_df[normalized_df.left == 1]\n",
    "df_stay = normalized_df[normalized_df.left == 0]"
   ]
  },
  {
   "cell_type": "code",
   "execution_count": 10,
   "id": "7a730bcc-aebe-40cc-a988-f3fa34ec5a45",
   "metadata": {},
   "outputs": [
    {
     "data": {
      "image/png": "[encoded data removed]",
      "text/plain": [
       "<Figure size 864x648 with 12 Axes>"
      ]
     },
     "metadata": {
      "needs_background": "light"
     },
     "output_type": "display_data"
    }
   ],
   "source": [
    "axes = df_left.hist(figsize=(12, 9), alpha=0.3, density=True)\n",
    "\n",
    "df_stay.hist(figsize=(12, 9), ax=list(itertools.chain.from_iterable(axes))[:10], alpha=0.3, density=True)\n",
    "\n",
    "plt.tight_layout()"
   ]
  },
  {
   "cell_type": "code",
   "execution_count": 11,
   "id": "c5d50917-e76f-495f-b0dd-fc5539b99c44",
   "metadata": {},
   "outputs": [
    {
     "data": {
      "image/png": "[encoded data removed]",
      "text/plain": [
       "<Figure size 864x648 with 12 Axes>"
      ]
     },
     "metadata": {
      "needs_background": "light"
     },
     "output_type": "display_data"
    }
   ],
   "source": [
    "axes = df_left.hist(figsize=(12, 9), alpha=0.3)\n",
    "\n",
    "df_stay.hist(figsize=(12, 9), ax=list(itertools.chain.from_iterable(axes))[:10], alpha=0.3)\n",
    "\n",
    "plt.tight_layout()"
   ]
  },
  {
   "cell_type": "markdown",
   "id": "ab3deea9-e248-4bf8-bc96-0fc16461a4f7",
   "metadata": {},
   "source": [
    "# Model development"
   ]
  },
  {
   "cell_type": "code",
   "execution_count": 12,
   "id": "4118445b-9d48-4393-bd86-6a644470e878",
   "metadata": {},
   "outputs": [],
   "source": [
    "def train_test_split(data, percent_train):\n",
    "    num_data = len(data)\n",
    "    \n",
    "    all_indices = np.random.choice(num_data, num_data)\n",
    "    \n",
    "    split_index = int(np.floor(num_data*percent_train))\n",
    "    train_indices, test_indices = np.split(all_indices, [split_index])\n",
    "    \n",
    "    return data.iloc[train_indices], data.iloc[test_indices]"
   ]
  },
  {
   "cell_type": "code",
   "execution_count": 13,
   "id": "6c898b98-31e8-467e-b503-a197ffb7b792",
   "metadata": {},
   "outputs": [
    {
     "data": {
      "text/plain": [
       "((8586, 10), (954, 10))"
      ]
     },
     "execution_count": 13,
     "metadata": {},
     "output_type": "execute_result"
    }
   ],
   "source": [
    "ndf_train, ndf_test = train_test_split(normalized_df, percent_train=0.9)\n",
    "ndf_train.shape, ndf_test.shape"
   ]
  },
  {
   "cell_type": "code",
   "execution_count": 14,
   "id": "2678a182-c51a-45ee-ae57-285a89383e06",
   "metadata": {},
   "outputs": [],
   "source": [
    "quant_ndf_train = ndf_train.drop(columns=['department', 'promoted', 'projects', 'salary', 'bonus'])\n",
    "cat_ndf_train   = ndf_train.drop(columns=['review', 'tenure', 'satisfaction', 'avg_hrs_month'])\n",
    "\n",
    "quant_ndf_test = ndf_test.drop(columns=['department', 'promoted', 'projects', 'salary', 'bonus'])\n",
    "cat_ndf_test   = ndf_test.drop(columns=['review', 'tenure', 'satisfaction', 'avg_hrs_month'])"
   ]
  },
  {
   "cell_type": "markdown",
   "id": "0c0ac8b0-87cf-45ee-bf31-5d6f28771945",
   "metadata": {},
   "source": [
    "## Naive Bayes\n",
    "\n",
    "General description of technique:\n",
    "    \n",
    "* Assumes that all variables are independent of each other\n",
    "* Uses Bayes' Theorem to make an updated prediction of the probability of a result given each of the variables\n",
    "    * Recall Bayes' Theorem:\n",
    "        * $P(\\text{A}|\\text{B}) = \\frac{P(\\text{B}|\\text{A}) * P(\\text{A})}{P(\\text{B})}$\n",
    "        * $ \\text{posterior} = \\frac{\\text{likelihood} * \\text{prior}}{\\text{evidence}} $\n",
    "    * For example:\n",
    "        * $P(\\text{left}|\\text{promoted}) = \\frac{P(\\text{promoted}|\\text{left})*P(\\text{left})}{P(\\text{promoted})}$\n",
    "* Note that `likelihood` and `prior` should all be computed using _only_ the training set.\n",
    "* Also note, `evidence` is a constant for a given observation, so it can be ignored. It is essentially the normalization of the distribution.\n",
    "* For multiple $x$ (because of the assumption of independence), the total probability can be written as $$ P(y | x_1, ..., x_n) = P(y) \\prod_{i=1}^n P(x_i|y)$$\n",
    "* We can of course use the log-probability instead $$ \\log{P(y | x_1, ..., x_n)} = \\log{P(y)} + \\sum_{i=1}^n \\log{P(x_i|y)} $$\n",
    "* This requires the assumption of a given likelihood for each possible output condition.\n",
    "    * For example, for \"Gaussian Naive Bayes\":\n",
    "        * $ P(x_i|y) = \\frac{1}{\\sigma \\sqrt{2\\pi}} \\exp{-\\frac{1}{2}\\big(\\frac{x - \\mu}{\\sigma}\\big)^2}$\n",
    "* The likelihoods for the categorical features must be handled differently: $$ P(x_i = t | y=c; \\alpha ) = \\frac{N_{xc} + \\alpha}{N_c + \\alpha n_i} $$\n",
    "    * $N_xc$ is the number of times feature $x$ appears in the data with category $c$\n",
    "    * $N_c$ is the number of counts of category $c$\n",
    "    * $\\alpha$ is a smoothing parameter\n",
    "    * $n_i$ is the number of categories"
   ]
  },
  {
   "cell_type": "markdown",
   "id": "2ab154f4-6b3a-48c8-984f-fe6ced2f7f73",
   "metadata": {},
   "source": [
    "### Gaussian NB only"
   ]
  },
  {
   "cell_type": "code",
   "execution_count": 15,
   "id": "ad64d5c3-f1fe-4d33-ad25-d7acb629d4b7",
   "metadata": {},
   "outputs": [
    {
     "name": "stdout",
     "output_type": "stream",
     "text": [
      "Training accuracy: 0.7529699510831587\n",
      "Testing accuracy: 0.729559748427673\n"
     ]
    }
   ],
   "source": [
    "from sklearn.naive_bayes import GaussianNB\n",
    "\n",
    "gnb = GaussianNB()\n",
    "\n",
    "gnb.fit(\n",
    "    quant_ndf_train.drop(columns=['left']),\n",
    "    quant_ndf_train['left']\n",
    ")\n",
    "\n",
    "predictions = gnb.predict(\n",
    "    quant_ndf_train.drop(columns=['left'])\n",
    ")\n",
    "\n",
    "incorrect = np.sum(np.abs(predictions - quant_ndf_train['left']))\n",
    "percent_incorrect = incorrect / len(quant_ndf_train)\n",
    "gnb_train_acc = 1-percent_incorrect\n",
    "print(\"Training accuracy:\", gnb_train_acc)\n",
    "\n",
    "predictions = gnb.predict(\n",
    "    quant_ndf_test.drop(columns=['left'])\n",
    ")\n",
    "\n",
    "incorrect = np.sum(np.abs(predictions - quant_ndf_test['left']))\n",
    "percent_incorrect = incorrect / len(quant_ndf_test)\n",
    "gnb_test_acc = 1-percent_incorrect\n",
    "print(\"Testing accuracy:\", gnb_test_acc)"
   ]
  },
  {
   "cell_type": "markdown",
   "id": "c6999f54-3429-4baf-a83a-dd584039824a",
   "metadata": {},
   "source": [
    "### Categorical NB only"
   ]
  },
  {
   "cell_type": "code",
   "execution_count": 16,
   "id": "f3e3bf93-620c-49f0-8eb4-4e65770f4241",
   "metadata": {},
   "outputs": [
    {
     "name": "stdout",
     "output_type": "stream",
     "text": [
      "Training accuracy: 0.713487071977638\n",
      "Testing accuracy: 0.6834381551362683\n"
     ]
    }
   ],
   "source": [
    "from sklearn.naive_bayes import CategoricalNB\n",
    "\n",
    "cnb = CategoricalNB()\n",
    "\n",
    "cnb.fit(\n",
    "    cat_ndf_train.drop(columns=['left']),\n",
    "    cat_ndf_train['left']\n",
    ")\n",
    "\n",
    "cnb_predictions_train = cnb.predict(\n",
    "    cat_ndf_train.drop(columns=['left'])\n",
    ")\n",
    "\n",
    "incorrect = np.sum(np.abs(cnb_predictions_train - cat_ndf_train['left']))\n",
    "percent_incorrect = incorrect / len(cat_ndf_train)\n",
    "cnb_train_acc = 1-percent_incorrect\n",
    "print(\"Training accuracy:\", cnb_train_acc)\n",
    "\n",
    "cnb_predictions_test = cnb.predict(\n",
    "    cat_ndf_test.drop(columns=['left'])\n",
    ")\n",
    "\n",
    "incorrect = np.sum(np.abs(cnb_predictions_test - cat_ndf_test['left']))\n",
    "percent_incorrect = incorrect / len(cat_ndf_test)\n",
    "cnb_test_acc = 1-percent_incorrect\n",
    "print(\"Testing accuracy:\", cnb_test_acc)"
   ]
  },
  {
   "cell_type": "markdown",
   "id": "d4c7d773-19ea-4b95-a797-00f959f13539",
   "metadata": {},
   "source": [
    "### Gaussian NB + Categorical NB"
   ]
  },
  {
   "cell_type": "code",
   "execution_count": 17,
   "id": "2333a13a-6467-4f78-8c8e-681b1c5ff212",
   "metadata": {},
   "outputs": [
    {
     "name": "stdout",
     "output_type": "stream",
     "text": [
      "Training accuracy: 0.7352667132541346\n",
      "Testing accuracy: 0.7106918238993711\n"
     ]
    }
   ],
   "source": [
    "gnb = GaussianNB()\n",
    "cnb = CategoricalNB()\n",
    "\n",
    "gnb.fit(\n",
    "    quant_ndf_train.drop(columns=['left']),\n",
    "    quant_ndf_train['left']\n",
    ")\n",
    "\n",
    "cnb.fit(\n",
    "    cat_ndf_train.drop(columns=['left']),\n",
    "    cat_ndf_train['left']\n",
    ")\n",
    "\n",
    "gnb_probs = gnb.predict_log_proba(\n",
    "    quant_ndf_train.drop(columns=['left'])\n",
    ")\n",
    "\n",
    "cnb_probs = cnb.predict_log_proba(\n",
    "    cat_ndf_train.drop(columns=['left'])\n",
    ")\n",
    "\n",
    "total_probs = gnb_probs + cnb_probs\n",
    "\n",
    "predictions = np.zeros_like(ndf_train['left'])\n",
    "predictions[np.where(total_probs[:, 0] < total_probs[:, 1])] = 1\n",
    "\n",
    "incorrect = np.sum(np.abs(predictions - ndf_train['left']))\n",
    "percent_incorrect = incorrect / len(ndf_train)\n",
    "total_train_acc = 1-percent_incorrect\n",
    "print(\"Training accuracy:\", total_train_acc)\n",
    "\n",
    "gnb_probs = gnb.predict_log_proba(\n",
    "    quant_ndf_test.drop(columns=['left'])\n",
    ")\n",
    "\n",
    "cnb_probs = cnb.predict_log_proba(\n",
    "    cat_ndf_test.drop(columns=['left'])\n",
    ")\n",
    "\n",
    "total_probs = gnb_probs + cnb_probs\n",
    "\n",
    "predictions = np.zeros_like(ndf_test['left'])\n",
    "predictions[np.where(total_probs[:, 0] < total_probs[:, 1])] = 1\n",
    "\n",
    "incorrect = np.sum(np.abs(predictions - ndf_test['left']))\n",
    "percent_incorrect = incorrect / len(ndf_test)\n",
    "total_test_acc = 1-percent_incorrect\n",
    "print(\"Testing accuracy:\", total_test_acc)"
   ]
  },
  {
   "cell_type": "markdown",
   "id": "26b2ad3b-aa55-4a3d-9194-a736b8a1818b",
   "metadata": {},
   "source": [
    "### QDA\n",
    "\n",
    "Quadratic Discriminant Analysis (QDA), is almost identical to Gaussian Naive Bayes, but it takes into account possible correlation between variables. It does this by replacing the independent Gaussian distributions for $P(x|y)$ with a multi-variate Gaussian that has a non-diagonal correlation matrix.\n",
    "\n",
    "In QDA, the new log of the posterior is: $$ \\log{(P(y=k|x)} \\\\= \\log{P(x|y=k)} + \\log{P(y=k)} + C_{st} \\\\= -\\frac{1}{2}\\log{|\\Sigma_k|}  - \\frac{1}{2}(x-\\mu_k)^t\\Sigma_k^{-1}(x-\\mu_k) + \\log{P(y=k)}$$"
   ]
  },
  {
   "cell_type": "code",
   "execution_count": 30,
   "id": "8bd23fff-1ef4-4e9e-bdba-2aec0d656f6e",
   "metadata": {},
   "outputs": [
    {
     "name": "stdout",
     "output_type": "stream",
     "text": [
      "Training accuracy: 0.7655485674353599\n",
      "Testing accuracy: 0.7463312368972747\n"
     ]
    }
   ],
   "source": [
    "from sklearn.discriminant_analysis import QuadraticDiscriminantAnalysis\n",
    "\n",
    "qda = QuadraticDiscriminantAnalysis(store_covariance=True)\n",
    "\n",
    "qda.fit(\n",
    "    quant_ndf_train.drop(columns=['left']),\n",
    "    quant_ndf_train['left']\n",
    ")\n",
    "\n",
    "predictions = qda.predict(\n",
    "    quant_ndf_train.drop(columns=['left'])\n",
    ")\n",
    "\n",
    "incorrect = np.sum(np.abs(predictions - quant_ndf_train['left']))\n",
    "percent_incorrect = incorrect / len(quant_ndf_train)\n",
    "qda_train_acc = 1-percent_incorrect\n",
    "print(\"Training accuracy:\", qda_train_acc)\n",
    "\n",
    "predictions = qda.predict(\n",
    "    quant_ndf_test.drop(columns=['left'])\n",
    ")\n",
    "\n",
    "incorrect = np.sum(np.abs(predictions - quant_ndf_test['left']))\n",
    "percent_incorrect = incorrect / len(quant_ndf_test)\n",
    "qda_test_acc = 1-percent_incorrect\n",
    "print(\"Testing accuracy:\", qda_test_acc)"
   ]
  },
  {
   "cell_type": "code",
   "execution_count": 31,
   "id": "d0e353bf-841e-4fd0-bf0f-beebe695cfb7",
   "metadata": {},
   "outputs": [
    {
     "name": "stdout",
     "output_type": "stream",
     "text": [
      "GNB:\n",
      "\tTrain: 0.7529699510831587\n",
      "\tTest:  0.729559748427673\n",
      "CNB:\n",
      "\tTrain: 0.713487071977638\n",
      "\tTest:  0.6834381551362683\n",
      "GNB+CNB:\n",
      "\tTrain: 0.7352667132541346\n",
      "\tTest:  0.7106918238993711\n",
      "QDA:\n",
      "\tTrain: 0.7655485674353599\n",
      "\tTest:  0.7463312368972747\n"
     ]
    }
   ],
   "source": [
    "print('GNB:')\n",
    "print(f'\\tTrain: {gnb_train_acc}')\n",
    "print(f'\\tTest:  {gnb_test_acc}')\n",
    "\n",
    "print('CNB:')\n",
    "print(f'\\tTrain: {cnb_train_acc}')\n",
    "print(f'\\tTest:  {cnb_test_acc}')\n",
    "\n",
    "print('GNB+CNB:')\n",
    "print(f'\\tTrain: {total_train_acc}')\n",
    "print(f'\\tTest:  {total_test_acc}')\n",
    "\n",
    "print('QDA:')\n",
    "print(f'\\tTrain: {qda_train_acc}')\n",
    "print(f'\\tTest:  {qda_test_acc}')"
   ]
  },
  {
   "cell_type": "markdown",
   "id": "ffc71e19-4726-4d6c-ae8e-16c59b919591",
   "metadata": {},
   "source": [
    "# SVC (SVM)\n",
    "\n",
    "Support Vector Classifiers (SVCs), a type of Support Vector Machine (SVM), work by attempting t\n",
    "\n",
    "Here are the key points that help me to understand how SVCs work:\n",
    "\n",
    "* SVCs try to build a hyperplane that separates the two classes of points\n",
    "    * They do this by trying to maximize the distance between the hyperplane and all of the nearest points\n",
    "        * The distance to the nearest points is called called the \"margin\"\n",
    "        * These points are called the \"support vectors\"\n",
    "            * \"Support vectors are the points that would change the position of the hyperplane if they wer ere removed\"\n",
    "* SVCs make predictions by taking the sign of the weighted sum of the distances between a test point and all of the support vectors: $ \\sum_{i \\in SV} y_i \\alpha_i K(x_i, x) + b$\n",
    "    * The \"distance\" is computed using a kernel function $K$ (e.g., RBF)\n",
    "    * $y_i$ is the class of support vector $i$\n",
    "    * $x_i$ is support vector $i$\n",
    "    * $\\alpha_i$ is the \"dual coefficient\", which I don't understand what it is yet...\n",
    "    "
   ]
  },
  {
   "cell_type": "code",
   "execution_count": 33,
   "id": "21433801-66c7-421b-be75-5be0d9fd59fb",
   "metadata": {},
   "outputs": [
    {
     "name": "stdout",
     "output_type": "stream",
     "text": [
      "quant\n",
      "\tKernel: linear\n",
      "\t\tTraining accuracy (quant): 0.713487071977638\n",
      "\t\tTesting accuracy (quant): 0.6834381551362683\n",
      "\tKernel: poly\n",
      "\t\tTraining accuracy (quant): 0.7912881434894014\n",
      "\t\tTesting accuracy (quant): 0.7515723270440251\n",
      "\tKernel: rbf\n",
      "\t\tTraining accuracy (quant): 0.8662939669228977\n",
      "\t\tTesting accuracy (quant): 0.8469601677148847\n",
      "\tKernel: sigmoid\n",
      "\t\tTraining accuracy (quant): 0.5582343349638947\n",
      "\t\tTesting accuracy (quant): 0.5429769392033543\n",
      "categorical\n",
      "\tKernel: linear\n",
      "\t\tTraining accuracy (quant): 0.713487071977638\n",
      "\t\tTesting accuracy (quant): 0.6834381551362683\n",
      "\tKernel: poly\n",
      "\t\tTraining accuracy (quant): 0.713487071977638\n",
      "\t\tTesting accuracy (quant): 0.6834381551362683\n",
      "\tKernel: rbf\n",
      "\t\tTraining accuracy (quant): 0.713487071977638\n",
      "\t\tTesting accuracy (quant): 0.6834381551362683\n",
      "\tKernel: sigmoid\n",
      "\t\tTraining accuracy (quant): 0.6227579781038901\n",
      "\t\tTesting accuracy (quant): 0.6058700209643606\n",
      "all\n",
      "\tKernel: linear\n",
      "\t\tTraining accuracy (quant): 0.713487071977638\n",
      "\t\tTesting accuracy (quant): 0.6834381551362683\n",
      "\tKernel: poly\n",
      "\t\tTraining accuracy (quant): 0.8110878173771255\n",
      "\t\tTesting accuracy (quant): 0.7882599580712788\n",
      "\tKernel: rbf\n",
      "\t\tTraining accuracy (quant): 0.8250640577684603\n",
      "\t\tTesting accuracy (quant): 0.80083857442348\n",
      "\tKernel: sigmoid\n",
      "\t\tTraining accuracy (quant): 0.616701607267645\n",
      "\t\tTesting accuracy (quant): 0.6069182389937107\n"
     ]
    }
   ],
   "source": [
    "from sklearn import svm\n",
    "\n",
    "results = {}\n",
    "\n",
    "for name, train, test in zip(\n",
    "        ['quant', 'categorical', 'all'],\n",
    "        [quant_ndf_train, cat_ndf_train, ndf_train],\n",
    "        [quant_ndf_test,  cat_ndf_test,  ndf_test],\n",
    "    ):\n",
    "    \n",
    "    print(name)\n",
    "    \n",
    "    X = train.drop(columns='left')\n",
    "    y = train['left']\n",
    "\n",
    "    for kernel in ['linear', 'poly', 'rbf', 'sigmoid']:\n",
    "        model = svm.SVC(kernel=kernel)\n",
    "        model.fit(X, y)\n",
    "\n",
    "        svm_predictions_train = model.predict(X)\n",
    "\n",
    "        print(f\"\\tKernel: {kernel}\")\n",
    "        incorrect = np.sum(np.abs(svm_predictions_train - train['left']))\n",
    "        percent_incorrect = incorrect / len(train)\n",
    "        print(f\"\\t\\tTraining accuracy (quant):\", 1-percent_incorrect)\n",
    "\n",
    "        svm_predictions_test = model.predict(test.drop(columns='left'))\n",
    "\n",
    "        incorrect = np.sum(np.abs(svm_predictions_test - test['left']))\n",
    "        percent_incorrect = incorrect / len(test)\n",
    "        print(f\"\\t\\tTesting accuracy (quant):\", 1-percent_incorrect)\n",
    "        \n",
    "        results[name] = {'train': train, 'test': test}"
   ]
  },
  {
   "cell_type": "code",
   "execution_count": 41,
   "id": "ff7f8fac-258d-4c62-be9e-933d99bda2a1",
   "metadata": {},
   "outputs": [
    {
     "name": "stdout",
     "output_type": "stream",
     "text": [
      "\t\tTraining accuracy (quant): 0.8662939669228977\n",
      "\t\tTesting accuracy (quant): 0.8469601677148847\n"
     ]
    }
   ],
   "source": [
    "train = quant_ndf_train\n",
    "test  = quant_ndf_test\n",
    "\n",
    "X = train.drop(columns='left')\n",
    "y = train['left']\n",
    "\n",
    "model = svm.SVC(kernel='rbf')\n",
    "model.fit(X, y)\n",
    "\n",
    "svm_predictions_train = model.predict(X)\n",
    "\n",
    "incorrect = np.sum(np.abs(svm_predictions_train - train['left']))\n",
    "percent_incorrect = incorrect / len(train)\n",
    "print(f\"\\t\\tTraining accuracy (quant):\", 1-percent_incorrect)\n",
    "\n",
    "svm_predictions_test = model.predict(test.drop(columns='left'))\n",
    "\n",
    "incorrect = np.sum(np.abs(svm_predictions_test - test['left']))\n",
    "percent_incorrect = incorrect / len(test)\n",
    "print(f\"\\t\\tTesting accuracy (quant):\", 1-percent_incorrect)\n"
   ]
  },
  {
   "cell_type": "code",
   "execution_count": 42,
   "id": "3f2564bd-ae6d-466b-a300-dcdf5fa04cff",
   "metadata": {},
   "outputs": [
    {
     "data": {
      "text/plain": [
       "(2977, 4)"
      ]
     },
     "execution_count": 42,
     "metadata": {},
     "output_type": "execute_result"
    }
   ],
   "source": [
    "model.support_vectors_.shape"
   ]
  },
  {
   "cell_type": "code",
   "execution_count": 45,
   "id": "8bc44f6e-3003-4591-afe4-c76b26de19c0",
   "metadata": {},
   "outputs": [
    {
     "data": {
      "text/plain": [
       "(8586, 5)"
      ]
     },
     "execution_count": 45,
     "metadata": {},
     "output_type": "execute_result"
    }
   ],
   "source": [
    "train.shape"
   ]
  },
  {
   "cell_type": "code",
   "execution_count": 44,
   "id": "4aabb675-0ab6-44eb-8e43-c651504036b4",
   "metadata": {},
   "outputs": [
    {
     "data": {
      "text/plain": [
       "3.120545073375262"
      ]
     },
     "execution_count": 44,
     "metadata": {},
     "output_type": "execute_result"
    }
   ],
   "source": [
    "2977/954"
   ]
  },
  {
   "cell_type": "code",
   "execution_count": null,
   "id": "ef188ebb-458a-4306-9af6-bd123b3e3efb",
   "metadata": {},
   "outputs": [],
   "source": []
  }
 ],
 "metadata": {
  "kernelspec": {
   "display_name": "Python 3",
   "language": "python",
   "name": "python3"
  },
  "language_info": {
   "codemirror_mode": {
    "name": "ipython",
    "version": 3
   },
   "file_extension": ".py",
   "mimetype": "text/x-python",
   "name": "python",
   "nbconvert_exporter": "python",
   "pygments_lexer": "ipython3",
   "version": "3.8.8"
  }
 },
 "nbformat": 4,
 "nbformat_minor": 5
}
