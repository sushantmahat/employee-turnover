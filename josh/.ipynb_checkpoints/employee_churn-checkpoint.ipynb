{
 "cells": [
  {
   "cell_type": "markdown",
   "id": "6671fb82-1962-44c1-aa4f-4e44883b3832",
   "metadata": {},
   "source": [
    "# Can you help reduce employee turnover?\n",
    "\n",
    "## 📖 Background\n",
    "You work for the human capital department of a large corporation. The Board is worried about the relatively high turnover, and your team must look into ways to reduce the number of employees leaving the company.\n",
    "\n",
    "The team needs to understand better the situation, which employees are more likely to leave, and why. Once it is clear what variables impact employee churn, you can present your findings along with your ideas on how to attack the problem."
   ]
  },
  {
   "cell_type": "markdown",
   "id": "2f5929b9-9d9a-457a-99ab-be05f27176f9",
   "metadata": {},
   "source": [
    "## 💾 The data\n",
    "The department has assembled data on almost 10,000 employees. The team used information from exit interviews, performance reviews, and employee records.\n",
    "\n",
    "- \"department\" - the department the employee belongs to.\n",
    "- \"promoted\" - 1 if the employee was promoted in the previous 24 months, 0 otherwise.\n",
    "- \"review\" - the composite score the employee received in their last evaluation.\n",
    "- \"projects\" - how many projects the employee is involved in.\n",
    "- \"salary\" - for confidentiality reasons, salary comes in three tiers: low, medium, high.\n",
    "- \"tenure\" - how many years the employee has been at the company.\n",
    "- \"satisfaction\" - a measure of employee satisfaction from surveys.\n",
    "- \"avg_hrs_month\" - the average hours the employee worked in a month.\n",
    "- \"left\" - \"yes\" if the employee ended up leaving, \"no\" otherwise."
   ]
  },
  {
   "cell_type": "code",
   "execution_count": 1,
   "id": "07ee76ec-6cc0-4cc7-b6ed-eba4feb6ca0b",
   "metadata": {},
   "outputs": [
    {
     "data": {
      "text/html": [
       "<div>\n",
       "<style scoped>\n",
       "    .dataframe tbody tr th:only-of-type {\n",
       "        vertical-align: middle;\n",
       "    }\n",
       "\n",
       "    .dataframe tbody tr th {\n",
       "        vertical-align: top;\n",
       "    }\n",
       "\n",
       "    .dataframe thead th {\n",
       "        text-align: right;\n",
       "    }\n",
       "</style>\n",
       "<table border=\"1\" class=\"dataframe\">\n",
       "  <thead>\n",
       "    <tr style=\"text-align: right;\">\n",
       "      <th></th>\n",
       "      <th>department</th>\n",
       "      <th>promoted</th>\n",
       "      <th>review</th>\n",
       "      <th>projects</th>\n",
       "      <th>salary</th>\n",
       "      <th>tenure</th>\n",
       "      <th>satisfaction</th>\n",
       "      <th>bonus</th>\n",
       "      <th>avg_hrs_month</th>\n",
       "      <th>left</th>\n",
       "    </tr>\n",
       "  </thead>\n",
       "  <tbody>\n",
       "    <tr>\n",
       "      <th>0</th>\n",
       "      <td>operations</td>\n",
       "      <td>0</td>\n",
       "      <td>0.577569</td>\n",
       "      <td>3</td>\n",
       "      <td>low</td>\n",
       "      <td>5.0</td>\n",
       "      <td>0.626759</td>\n",
       "      <td>0</td>\n",
       "      <td>180.866070</td>\n",
       "      <td>no</td>\n",
       "    </tr>\n",
       "    <tr>\n",
       "      <th>1</th>\n",
       "      <td>operations</td>\n",
       "      <td>0</td>\n",
       "      <td>0.751900</td>\n",
       "      <td>3</td>\n",
       "      <td>medium</td>\n",
       "      <td>6.0</td>\n",
       "      <td>0.443679</td>\n",
       "      <td>0</td>\n",
       "      <td>182.708149</td>\n",
       "      <td>no</td>\n",
       "    </tr>\n",
       "    <tr>\n",
       "      <th>2</th>\n",
       "      <td>support</td>\n",
       "      <td>0</td>\n",
       "      <td>0.722548</td>\n",
       "      <td>3</td>\n",
       "      <td>medium</td>\n",
       "      <td>6.0</td>\n",
       "      <td>0.446823</td>\n",
       "      <td>0</td>\n",
       "      <td>184.416084</td>\n",
       "      <td>no</td>\n",
       "    </tr>\n",
       "    <tr>\n",
       "      <th>3</th>\n",
       "      <td>logistics</td>\n",
       "      <td>0</td>\n",
       "      <td>0.675158</td>\n",
       "      <td>4</td>\n",
       "      <td>high</td>\n",
       "      <td>8.0</td>\n",
       "      <td>0.440139</td>\n",
       "      <td>0</td>\n",
       "      <td>188.707545</td>\n",
       "      <td>no</td>\n",
       "    </tr>\n",
       "    <tr>\n",
       "      <th>4</th>\n",
       "      <td>sales</td>\n",
       "      <td>0</td>\n",
       "      <td>0.676203</td>\n",
       "      <td>3</td>\n",
       "      <td>high</td>\n",
       "      <td>5.0</td>\n",
       "      <td>0.577607</td>\n",
       "      <td>1</td>\n",
       "      <td>179.821083</td>\n",
       "      <td>no</td>\n",
       "    </tr>\n",
       "  </tbody>\n",
       "</table>\n",
       "</div>"
      ],
      "text/plain": [
       "   department  promoted    review  projects  salary  tenure  satisfaction  \\\n",
       "0  operations         0  0.577569         3     low     5.0      0.626759   \n",
       "1  operations         0  0.751900         3  medium     6.0      0.443679   \n",
       "2     support         0  0.722548         3  medium     6.0      0.446823   \n",
       "3   logistics         0  0.675158         4    high     8.0      0.440139   \n",
       "4       sales         0  0.676203         3    high     5.0      0.577607   \n",
       "\n",
       "   bonus  avg_hrs_month left  \n",
       "0      0     180.866070   no  \n",
       "1      0     182.708149   no  \n",
       "2      0     184.416084   no  \n",
       "3      0     188.707545   no  \n",
       "4      1     179.821083   no  "
      ]
     },
     "execution_count": 1,
     "metadata": {},
     "output_type": "execute_result"
    }
   ],
   "source": [
    "import numpy as np\n",
    "import pandas as pd\n",
    "\n",
    "df = pd.read_csv('./data/employee_churn_data.csv')\n",
    "df.head()"
   ]
  },
  {
   "cell_type": "markdown",
   "id": "ea5ecc34-7949-4090-9129-684c491c05cb",
   "metadata": {},
   "source": [
    "## 💪 Competition challenge\n",
    "\n",
    "Create a report that covers the following:\n",
    "1. Which department has the highest employee turnover? Which one has the lowest?\n",
    "2. Investigate which variables seem to be better predictors of employee departure.\n",
    "3. What recommendations would you make regarding ways to reduce employee turnover?"
   ]
  },
  {
   "cell_type": "markdown",
   "id": "a5b2aa2a-1f53-4343-93bf-9a09c503fbf5",
   "metadata": {},
   "source": [
    "## 🧑‍⚖️ Judging criteria\n",
    "\n",
    "| CATEGORY | WEIGHTING | DETAILS                                                              |\n",
    "|:---------|:----------|:---------------------------------------------------------------------|\n",
    "| **Recommendations** | 35%       | <ul><li>Clarity of recommendations - how clear and well presented the recommendation is.</li><li>Quality of recommendations - are appropriate analytical techniques used & are the conclusions valid?</li><li>Number of relevant insights found for the target audience.</li></ul>       |\n",
    "| **Storytelling**  | 35%       | <ul><li>How well the data and insights are connected to the recommendation.</li><li>How the narrative and whole report connects together.</li><li>Balancing making the report in-depth enough but also concise.</li></ul> |\n",
    "| **Visualizations** | 20% | <ul><li>Appropriateness of visualization used.</li><li>Clarity of insight from visualization.</li></ul> |\n",
    "| **Votes** | 10% | <ul><li>Up voting - most upvoted entries get the most points.</li></ul> |"
   ]
  },
  {
   "cell_type": "markdown",
   "id": "0e920d2e-bddd-4396-9644-a6568d323bbf",
   "metadata": {},
   "source": [
    "## ✅ Checklist before publishing into the competition\n",
    "- Rename your workspace to make it descriptive of your work. N.B. you should leave the notebook name as notebook.ipynb.\n",
    "- Remove redundant cells like the judging criteria, so the workbook is focused on your story.\n",
    "- Make sure the workbook reads well and explains how you found your insights.\n",
    "- Check that all the cells run without error."
   ]
  },
  {
   "cell_type": "markdown",
   "id": "f53a49ea-ddf4-4a19-941a-5ce52b679e77",
   "metadata": {},
   "source": [
    "## ⌛️ Time is ticking. Good luck!"
   ]
  },
  {
   "cell_type": "code",
   "execution_count": 2,
   "id": "400b2d3c-0a18-4089-a84c-f898dfb2d407",
   "metadata": {},
   "outputs": [
    {
     "data": {
      "text/plain": [
       "Index(['department', 'promoted', 'review', 'projects', 'salary', 'tenure',\n",
       "       'satisfaction', 'bonus', 'avg_hrs_month', 'left'],\n",
       "      dtype='object')"
      ]
     },
     "execution_count": 2,
     "metadata": {},
     "output_type": "execute_result"
    }
   ],
   "source": [
    "df.columns"
   ]
  },
  {
   "cell_type": "code",
   "execution_count": 3,
   "id": "6368a4a0-a2ef-42ea-97ff-cba8c6b73ab0",
   "metadata": {},
   "outputs": [
    {
     "data": {
      "image/png": "[encoded data removed]",
      "text/plain": [
       "<Figure size 432x288 with 9 Axes>"
      ]
     },
     "metadata": {
      "needs_background": "light"
     },
     "output_type": "display_data"
    }
   ],
   "source": [
    "import matplotlib.pyplot as plt\n",
    "\n",
    "df.hist()\n",
    "\n",
    "plt.tight_layout()"
   ]
  },
  {
   "cell_type": "markdown",
   "id": "e3cde798-18c3-4ce7-bf0e-be5746665ed9",
   "metadata": {},
   "source": [
    "Missing columns: `'deparment'`, `'salary'`, `'left'`"
   ]
  },
  {
   "cell_type": "code",
   "execution_count": 4,
   "id": "350726c8-03fe-493e-8ea8-109701b6396e",
   "metadata": {},
   "outputs": [],
   "source": [
    "departments = sorted(set(df.department), key=lambda x: x.lower())"
   ]
  },
  {
   "cell_type": "code",
   "execution_count": 30,
   "id": "59d7d6ce-f9b3-4f1a-9747-5a3e3376558a",
   "metadata": {},
   "outputs": [
    {
     "data": {
      "text/plain": [
       "['admin',\n",
       " 'engineering',\n",
       " 'finance',\n",
       " 'IT',\n",
       " 'logistics',\n",
       " 'marketing',\n",
       " 'operations',\n",
       " 'retail',\n",
       " 'sales',\n",
       " 'support']"
      ]
     },
     "execution_count": 30,
     "metadata": {},
     "output_type": "execute_result"
    }
   ],
   "source": [
    "departments"
   ]
  },
  {
   "cell_type": "code",
   "execution_count": 5,
   "id": "1ac75fd0-8208-4ba3-b4e4-6798f407abea",
   "metadata": {},
   "outputs": [],
   "source": [
    "for i, dep in enumerate(departments):\n",
    "    df.department = df.department.replace(dep, i)"
   ]
  },
  {
   "cell_type": "code",
   "execution_count": 6,
   "id": "cb6a6b37-e333-4b04-8782-4d768751fc68",
   "metadata": {},
   "outputs": [],
   "source": [
    "df.salary = df.salary.replace('low', 0)\n",
    "df.salary = df.salary.replace('medium', 1)\n",
    "df.salary = df.salary.replace('high', 2)"
   ]
  },
  {
   "cell_type": "code",
   "execution_count": 7,
   "id": "198fb2a6-59ee-410b-a052-0d28b162f160",
   "metadata": {},
   "outputs": [],
   "source": [
    "df.left = df.left.replace('no', 0)\n",
    "df.left = df.left.replace('yes', 1)"
   ]
  },
  {
   "cell_type": "markdown",
   "id": "2c17b871-41f6-4314-8af2-633a4a0f9065",
   "metadata": {},
   "source": [
    "# Question 1\n",
    "\n",
    "Which department has the highest employee turnover? Which one has the lowest?"
   ]
  },
  {
   "cell_type": "code",
   "execution_count": 26,
   "id": "09ce74be-46d7-4968-9936-2b56a6883e10",
   "metadata": {},
   "outputs": [],
   "source": [
    "df_left = df[df.left == 1]\n",
    "df_stay = df[df.left == 0]"
   ]
  },
  {
   "cell_type": "code",
   "execution_count": 20,
   "id": "ecef186a-b463-40a0-a44b-544223d5f157",
   "metadata": {},
   "outputs": [],
   "source": [
    "leave_counts = {\n",
    "    dep: df_left[df_left.department == i].shape[0]\n",
    "    for i, dep in enumerate(departments)\n",
    "}"
   ]
  },
  {
   "cell_type": "code",
   "execution_count": 21,
   "id": "a88e5c0e-e80b-4eda-978c-4854b0d7e3e8",
   "metadata": {},
   "outputs": [
    {
     "name": "stdout",
     "output_type": "stream",
     "text": [
      "IT                  : 246\n",
      "logistics           : 249\n",
      "finance             : 294\n",
      "admin               : 304\n",
      "support             : 523\n",
      "marketing           : 559\n",
      "retail              : 1070\n",
      "engineering         : 1079\n",
      "operations          : 1086\n",
      "sales               : 1346\n"
     ]
    }
   ],
   "source": [
    "for k, v in sorted(leave_counts.items(), key=lambda x: x[1]):\n",
    "    print('{:<20}: {}'.format(k, v))"
   ]
  },
  {
   "cell_type": "code",
   "execution_count": 22,
   "id": "33375655-0d35-4109-a297-dcc9fb6b69ef",
   "metadata": {},
   "outputs": [
    {
     "name": "stdout",
     "output_type": "stream",
     "text": [
      "The department with the most turnover is: 'sales' (1346)\n"
     ]
    }
   ],
   "source": [
    "print(\"The department with the most turnover is: '{}' ({})\".format(*max(leave_counts.items(), key=lambda x: x[1])))"
   ]
  },
  {
   "cell_type": "code",
   "execution_count": 23,
   "id": "e8c291ed-d99d-4841-99f8-b1ff26ecf22d",
   "metadata": {},
   "outputs": [
    {
     "name": "stdout",
     "output_type": "stream",
     "text": [
      "The department with the least turnover is: 'IT (246)'\n"
     ]
    }
   ],
   "source": [
    "print(\"The department with the least turnover is: '{} ({})'\".format(*min(leave_counts.items(), key=lambda x: x[1])))"
   ]
  },
  {
   "cell_type": "markdown",
   "id": "df023334-6720-44a6-a0ac-5e350f2d6abf",
   "metadata": {},
   "source": [
    "# Question 2\n",
    "\n",
    "Investigate which variables seem to be better predictors of employee departure."
   ]
  },
  {
   "cell_type": "code",
   "execution_count": 57,
   "id": "98a0b5da-b213-4724-a185-28f2d8ed6040",
   "metadata": {},
   "outputs": [
    {
     "data": {
      "text/html": [
       "<div>\n",
       "<style scoped>\n",
       "    .dataframe tbody tr th:only-of-type {\n",
       "        vertical-align: middle;\n",
       "    }\n",
       "\n",
       "    .dataframe tbody tr th {\n",
       "        vertical-align: top;\n",
       "    }\n",
       "\n",
       "    .dataframe thead th {\n",
       "        text-align: right;\n",
       "    }\n",
       "</style>\n",
       "<table border=\"1\" class=\"dataframe\">\n",
       "  <thead>\n",
       "    <tr style=\"text-align: right;\">\n",
       "      <th></th>\n",
       "      <th>department</th>\n",
       "      <th>promoted</th>\n",
       "      <th>review</th>\n",
       "      <th>projects</th>\n",
       "      <th>salary</th>\n",
       "      <th>tenure</th>\n",
       "      <th>satisfaction</th>\n",
       "      <th>bonus</th>\n",
       "      <th>avg_hrs_month</th>\n",
       "      <th>left</th>\n",
       "    </tr>\n",
       "  </thead>\n",
       "  <tbody>\n",
       "    <tr>\n",
       "      <th>department</th>\n",
       "      <td>1.000000</td>\n",
       "      <td>0.001761</td>\n",
       "      <td>0.003410</td>\n",
       "      <td>0.002377</td>\n",
       "      <td>-0.004423</td>\n",
       "      <td>0.008386</td>\n",
       "      <td>-0.006741</td>\n",
       "      <td>0.001712</td>\n",
       "      <td>0.004321</td>\n",
       "      <td>0.003318</td>\n",
       "    </tr>\n",
       "    <tr>\n",
       "      <th>promoted</th>\n",
       "      <td>0.001761</td>\n",
       "      <td>1.000000</td>\n",
       "      <td>0.001879</td>\n",
       "      <td>0.010107</td>\n",
       "      <td>0.001039</td>\n",
       "      <td>0.001410</td>\n",
       "      <td>-0.011704</td>\n",
       "      <td>0.001072</td>\n",
       "      <td>-0.002190</td>\n",
       "      <td>-0.036777</td>\n",
       "    </tr>\n",
       "    <tr>\n",
       "      <th>review</th>\n",
       "      <td>0.003410</td>\n",
       "      <td>0.001879</td>\n",
       "      <td>1.000000</td>\n",
       "      <td>0.000219</td>\n",
       "      <td>-0.003665</td>\n",
       "      <td>-0.184133</td>\n",
       "      <td>-0.349778</td>\n",
       "      <td>-0.003627</td>\n",
       "      <td>-0.196096</td>\n",
       "      <td>0.304294</td>\n",
       "    </tr>\n",
       "    <tr>\n",
       "      <th>projects</th>\n",
       "      <td>0.002377</td>\n",
       "      <td>0.010107</td>\n",
       "      <td>0.000219</td>\n",
       "      <td>1.000000</td>\n",
       "      <td>-0.020884</td>\n",
       "      <td>0.022596</td>\n",
       "      <td>0.002714</td>\n",
       "      <td>0.002654</td>\n",
       "      <td>0.021299</td>\n",
       "      <td>-0.012408</td>\n",
       "    </tr>\n",
       "    <tr>\n",
       "      <th>salary</th>\n",
       "      <td>-0.004423</td>\n",
       "      <td>0.001039</td>\n",
       "      <td>-0.003665</td>\n",
       "      <td>-0.020884</td>\n",
       "      <td>1.000000</td>\n",
       "      <td>0.005097</td>\n",
       "      <td>-0.004510</td>\n",
       "      <td>-0.007137</td>\n",
       "      <td>0.007697</td>\n",
       "      <td>0.000943</td>\n",
       "    </tr>\n",
       "    <tr>\n",
       "      <th>tenure</th>\n",
       "      <td>0.008386</td>\n",
       "      <td>0.001410</td>\n",
       "      <td>-0.184133</td>\n",
       "      <td>0.022596</td>\n",
       "      <td>0.005097</td>\n",
       "      <td>1.000000</td>\n",
       "      <td>-0.146246</td>\n",
       "      <td>-0.000392</td>\n",
       "      <td>0.978618</td>\n",
       "      <td>0.010521</td>\n",
       "    </tr>\n",
       "    <tr>\n",
       "      <th>satisfaction</th>\n",
       "      <td>-0.006741</td>\n",
       "      <td>-0.011704</td>\n",
       "      <td>-0.349778</td>\n",
       "      <td>0.002714</td>\n",
       "      <td>-0.004510</td>\n",
       "      <td>-0.146246</td>\n",
       "      <td>1.000000</td>\n",
       "      <td>0.000704</td>\n",
       "      <td>-0.143142</td>\n",
       "      <td>-0.009721</td>\n",
       "    </tr>\n",
       "    <tr>\n",
       "      <th>bonus</th>\n",
       "      <td>0.001712</td>\n",
       "      <td>0.001072</td>\n",
       "      <td>-0.003627</td>\n",
       "      <td>0.002654</td>\n",
       "      <td>-0.007137</td>\n",
       "      <td>-0.000392</td>\n",
       "      <td>0.000704</td>\n",
       "      <td>1.000000</td>\n",
       "      <td>-0.000370</td>\n",
       "      <td>-0.011485</td>\n",
       "    </tr>\n",
       "    <tr>\n",
       "      <th>avg_hrs_month</th>\n",
       "      <td>0.004321</td>\n",
       "      <td>-0.002190</td>\n",
       "      <td>-0.196096</td>\n",
       "      <td>0.021299</td>\n",
       "      <td>0.007697</td>\n",
       "      <td>0.978618</td>\n",
       "      <td>-0.143142</td>\n",
       "      <td>-0.000370</td>\n",
       "      <td>1.000000</td>\n",
       "      <td>0.009008</td>\n",
       "    </tr>\n",
       "    <tr>\n",
       "      <th>left</th>\n",
       "      <td>0.003318</td>\n",
       "      <td>-0.036777</td>\n",
       "      <td>0.304294</td>\n",
       "      <td>-0.012408</td>\n",
       "      <td>0.000943</td>\n",
       "      <td>0.010521</td>\n",
       "      <td>-0.009721</td>\n",
       "      <td>-0.011485</td>\n",
       "      <td>0.009008</td>\n",
       "      <td>1.000000</td>\n",
       "    </tr>\n",
       "  </tbody>\n",
       "</table>\n",
       "</div>"
      ],
      "text/plain": [
       "               department  promoted    review  projects    salary    tenure  \\\n",
       "department       1.000000  0.001761  0.003410  0.002377 -0.004423  0.008386   \n",
       "promoted         0.001761  1.000000  0.001879  0.010107  0.001039  0.001410   \n",
       "review           0.003410  0.001879  1.000000  0.000219 -0.003665 -0.184133   \n",
       "projects         0.002377  0.010107  0.000219  1.000000 -0.020884  0.022596   \n",
       "salary          -0.004423  0.001039 -0.003665 -0.020884  1.000000  0.005097   \n",
       "tenure           0.008386  0.001410 -0.184133  0.022596  0.005097  1.000000   \n",
       "satisfaction    -0.006741 -0.011704 -0.349778  0.002714 -0.004510 -0.146246   \n",
       "bonus            0.001712  0.001072 -0.003627  0.002654 -0.007137 -0.000392   \n",
       "avg_hrs_month    0.004321 -0.002190 -0.196096  0.021299  0.007697  0.978618   \n",
       "left             0.003318 -0.036777  0.304294 -0.012408  0.000943  0.010521   \n",
       "\n",
       "               satisfaction     bonus  avg_hrs_month      left  \n",
       "department        -0.006741  0.001712       0.004321  0.003318  \n",
       "promoted          -0.011704  0.001072      -0.002190 -0.036777  \n",
       "review            -0.349778 -0.003627      -0.196096  0.304294  \n",
       "projects           0.002714  0.002654       0.021299 -0.012408  \n",
       "salary            -0.004510 -0.007137       0.007697  0.000943  \n",
       "tenure            -0.146246 -0.000392       0.978618  0.010521  \n",
       "satisfaction       1.000000  0.000704      -0.143142 -0.009721  \n",
       "bonus              0.000704  1.000000      -0.000370 -0.011485  \n",
       "avg_hrs_month     -0.143142 -0.000370       1.000000  0.009008  \n",
       "left              -0.009721 -0.011485       0.009008  1.000000  "
      ]
     },
     "execution_count": 57,
     "metadata": {},
     "output_type": "execute_result"
    }
   ],
   "source": [
    "df.corr()"
   ]
  },
  {
   "cell_type": "code",
   "execution_count": 24,
   "id": "f9934b68-d1e8-4658-aaed-819556f83058",
   "metadata": {},
   "outputs": [
    {
     "data": {
      "image/png": "[encoded data removed]",
      "text/plain": [
       "<Figure size 432x288 with 2 Axes>"
      ]
     },
     "metadata": {
      "needs_background": "light"
     },
     "output_type": "display_data"
    }
   ],
   "source": [
    "import seaborn as sns\n",
    "\n",
    "ax = sns.heatmap(df.corr())"
   ]
  },
  {
   "cell_type": "code",
   "execution_count": 32,
   "id": "b4734217-b3b1-47b0-a8a3-206f322d807c",
   "metadata": {},
   "outputs": [
    {
     "data": {
      "text/html": [
       "<div>\n",
       "<style scoped>\n",
       "    .dataframe tbody tr th:only-of-type {\n",
       "        vertical-align: middle;\n",
       "    }\n",
       "\n",
       "    .dataframe tbody tr th {\n",
       "        vertical-align: top;\n",
       "    }\n",
       "\n",
       "    .dataframe thead th {\n",
       "        text-align: right;\n",
       "    }\n",
       "</style>\n",
       "<table border=\"1\" class=\"dataframe\">\n",
       "  <thead>\n",
       "    <tr style=\"text-align: right;\">\n",
       "      <th></th>\n",
       "      <th>department</th>\n",
       "      <th>promoted</th>\n",
       "      <th>review</th>\n",
       "      <th>projects</th>\n",
       "      <th>salary</th>\n",
       "      <th>tenure</th>\n",
       "      <th>satisfaction</th>\n",
       "      <th>bonus</th>\n",
       "      <th>avg_hrs_month</th>\n",
       "      <th>left</th>\n",
       "    </tr>\n",
       "  </thead>\n",
       "  <tbody>\n",
       "    <tr>\n",
       "      <th>386</th>\n",
       "      <td>8</td>\n",
       "      <td>0</td>\n",
       "      <td>0.700577</td>\n",
       "      <td>4</td>\n",
       "      <td>1</td>\n",
       "      <td>5.0</td>\n",
       "      <td>0.484936</td>\n",
       "      <td>0</td>\n",
       "      <td>180.787350</td>\n",
       "      <td>1</td>\n",
       "    </tr>\n",
       "    <tr>\n",
       "      <th>785</th>\n",
       "      <td>8</td>\n",
       "      <td>0</td>\n",
       "      <td>0.738060</td>\n",
       "      <td>4</td>\n",
       "      <td>1</td>\n",
       "      <td>5.0</td>\n",
       "      <td>0.534547</td>\n",
       "      <td>0</td>\n",
       "      <td>179.534464</td>\n",
       "      <td>1</td>\n",
       "    </tr>\n",
       "    <tr>\n",
       "      <th>1078</th>\n",
       "      <td>8</td>\n",
       "      <td>0</td>\n",
       "      <td>0.600301</td>\n",
       "      <td>3</td>\n",
       "      <td>0</td>\n",
       "      <td>6.0</td>\n",
       "      <td>0.657108</td>\n",
       "      <td>0</td>\n",
       "      <td>182.426505</td>\n",
       "      <td>1</td>\n",
       "    </tr>\n",
       "    <tr>\n",
       "      <th>1155</th>\n",
       "      <td>6</td>\n",
       "      <td>0</td>\n",
       "      <td>0.722790</td>\n",
       "      <td>3</td>\n",
       "      <td>1</td>\n",
       "      <td>6.0</td>\n",
       "      <td>0.472769</td>\n",
       "      <td>0</td>\n",
       "      <td>181.921952</td>\n",
       "      <td>1</td>\n",
       "    </tr>\n",
       "    <tr>\n",
       "      <th>1190</th>\n",
       "      <td>9</td>\n",
       "      <td>0</td>\n",
       "      <td>0.679845</td>\n",
       "      <td>3</td>\n",
       "      <td>1</td>\n",
       "      <td>4.0</td>\n",
       "      <td>0.543203</td>\n",
       "      <td>0</td>\n",
       "      <td>177.469579</td>\n",
       "      <td>1</td>\n",
       "    </tr>\n",
       "  </tbody>\n",
       "</table>\n",
       "</div>"
      ],
      "text/plain": [
       "      department  promoted    review  projects  salary  tenure  satisfaction  \\\n",
       "386            8         0  0.700577         4       1     5.0      0.484936   \n",
       "785            8         0  0.738060         4       1     5.0      0.534547   \n",
       "1078           8         0  0.600301         3       0     6.0      0.657108   \n",
       "1155           6         0  0.722790         3       1     6.0      0.472769   \n",
       "1190           9         0  0.679845         3       1     4.0      0.543203   \n",
       "\n",
       "      bonus  avg_hrs_month  left  \n",
       "386       0     180.787350     1  \n",
       "785       0     179.534464     1  \n",
       "1078      0     182.426505     1  \n",
       "1155      0     181.921952     1  \n",
       "1190      0     177.469579     1  "
      ]
     },
     "execution_count": 32,
     "metadata": {},
     "output_type": "execute_result"
    }
   ],
   "source": [
    "df_left.head()"
   ]
  },
  {
   "cell_type": "code",
   "execution_count": 35,
   "id": "6ed2e8fa-6398-43b2-8ad4-fc159d4c32db",
   "metadata": {},
   "outputs": [
    {
     "data": {
      "text/plain": [
       "[<matplotlib.axes._subplots.AxesSubplot at 0x7f9201850b20>,\n",
       " <matplotlib.axes._subplots.AxesSubplot at 0x7f9201878e50>,\n",
       " <matplotlib.axes._subplots.AxesSubplot at 0x7f920182f310>,\n",
       " <matplotlib.axes._subplots.AxesSubplot at 0x7f92017da760>,\n",
       " <matplotlib.axes._subplots.AxesSubplot at 0x7f9201807bb0>,\n",
       " <matplotlib.axes._subplots.AxesSubplot at 0x7f92017b50a0>,\n",
       " <matplotlib.axes._subplots.AxesSubplot at 0x7f92017c1070>,\n",
       " <matplotlib.axes._subplots.AxesSubplot at 0x7f920176d520>,\n",
       " <matplotlib.axes._subplots.AxesSubplot at 0x7f9201746d30>,\n",
       " <matplotlib.axes._subplots.AxesSubplot at 0x7f92016ff1c0>,\n",
       " <matplotlib.axes._subplots.AxesSubplot at 0x7f92016ad550>,\n",
       " <matplotlib.axes._subplots.AxesSubplot at 0x7f92016cbb50>]"
      ]
     },
     "execution_count": 35,
     "metadata": {},
     "output_type": "execute_result"
    }
   ],
   "source": [
    "import itertools\n",
    "list(itertools.chain.from_iterable(axes))"
   ]
  },
  {
   "cell_type": "code",
   "execution_count": 56,
   "id": "40f1cb00-38fe-4de8-ba6d-5cc8e6eabab5",
   "metadata": {},
   "outputs": [
    {
     "data": {
      "image/png": "[encoded data removed]",
      "text/plain": [
       "<Figure size 864x648 with 12 Axes>"
      ]
     },
     "metadata": {
      "needs_background": "light"
     },
     "output_type": "display_data"
    }
   ],
   "source": [
    "axes = df_left.hist(figsize=(12, 9), alpha=0.3, density=True)\n",
    "\n",
    "df_stay.hist(figsize=(12, 9), ax=list(itertools.chain.from_iterable(axes))[:10], alpha=0.3, density=True)\n",
    "\n",
    "plt.tight_layout()"
   ]
  },
  {
   "cell_type": "code",
   "execution_count": 52,
   "id": "2cca4b26-2ca5-4346-b329-fe1f46888b5d",
   "metadata": {},
   "outputs": [
    {
     "data": {
      "image/png": "[encoded data removed]",
      "text/plain": [
       "<Figure size 864x648 with 12 Axes>"
      ]
     },
     "metadata": {
      "needs_background": "light"
     },
     "output_type": "display_data"
    }
   ],
   "source": [
    "axes = df_left.hist(figsize=(12, 9), alpha=0.3)\n",
    "\n",
    "df_stay.hist(figsize=(12, 9), ax=list(itertools.chain.from_iterable(axes))[:10], alpha=0.3)\n",
    "\n",
    "plt.tight_layout()"
   ]
  },
  {
   "cell_type": "markdown",
   "id": "ba18e3ca-f8f7-4bc9-b6c3-55dc4d1ac1a6",
   "metadata": {},
   "source": [
    "Brainstorming:\n",
    "\n",
    "* \"Maybe they work too hard, then want to leave, but they get reviewed well because they worked so hard\"\n",
    "    * So is there a positive correlation between `'avg_hrs_month'` and `'review'`? No... actually, they're negatively correlated.\n",
    "* Spring-board theory -- they're reviewed too well, they leave\n",
    "* Start with a model using only `'review'`, `'tenure'`, `'avg_hrs_month'`, and `'satisfaction'`"
   ]
  },
  {
   "cell_type": "code",
   "execution_count": 50,
   "id": "3a62e22f-aadc-4645-8064-5c6f3efdb726",
   "metadata": {},
   "outputs": [
    {
     "data": {
      "text/plain": [
       "184.7197299534714"
      ]
     },
     "execution_count": 50,
     "metadata": {},
     "output_type": "execute_result"
    }
   ],
   "source": [
    "df_left.avg_hrs_month.mean()"
   ]
  },
  {
   "cell_type": "code",
   "execution_count": 51,
   "id": "054e672c-41f2-41a3-b1b7-a87dbf92e884",
   "metadata": {},
   "outputs": [
    {
     "data": {
      "text/plain": [
       "184.63760513877384"
      ]
     },
     "execution_count": 51,
     "metadata": {},
     "output_type": "execute_result"
    }
   ],
   "source": [
    "df_stay.avg_hrs_month.mean()"
   ]
  },
  {
   "cell_type": "code",
   "execution_count": null,
   "id": "092dd639-2ce6-41e4-86a4-3a05c34a6167",
   "metadata": {},
   "outputs": [],
   "source": []
  }
 ],
 "metadata": {
  "kernelspec": {
   "display_name": "Python 3",
   "language": "python",
   "name": "python3"
  },
  "language_info": {
   "codemirror_mode": {
    "name": "ipython",
    "version": 3
   },
   "file_extension": ".py",
   "mimetype": "text/x-python",
   "name": "python",
   "nbconvert_exporter": "python",
   "pygments_lexer": "ipython3",
   "version": "3.8.8"
  }
 },
 "nbformat": 4,
 "nbformat_minor": 5
}
